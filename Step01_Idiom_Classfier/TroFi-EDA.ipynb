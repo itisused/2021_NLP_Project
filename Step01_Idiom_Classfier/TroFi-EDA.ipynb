{
 "cells": [
  {
   "cell_type": "code",
   "execution_count": 1,
   "id": "dfff146e",
   "metadata": {},
   "outputs": [
    {
     "data": {
      "text/html": [
       "<div>\n",
       "<style scoped>\n",
       "    .dataframe tbody tr th:only-of-type {\n",
       "        vertical-align: middle;\n",
       "    }\n",
       "\n",
       "    .dataframe tbody tr th {\n",
       "        vertical-align: top;\n",
       "    }\n",
       "\n",
       "    .dataframe thead th {\n",
       "        text-align: right;\n",
       "    }\n",
       "</style>\n",
       "<table border=\"1\" class=\"dataframe\">\n",
       "  <thead>\n",
       "    <tr style=\"text-align: right;\">\n",
       "      <th></th>\n",
       "      <th>***absorb***</th>\n",
       "      <th>Unnamed: 1</th>\n",
       "      <th>Unnamed: 2</th>\n",
       "    </tr>\n",
       "  </thead>\n",
       "  <tbody>\n",
       "    <tr>\n",
       "      <th>0</th>\n",
       "      <td>*nonliteral cluster*</td>\n",
       "      <td>NaN</td>\n",
       "      <td>NaN</td>\n",
       "    </tr>\n",
       "    <tr>\n",
       "      <th>1</th>\n",
       "      <td>wsj02:2251</td>\n",
       "      <td>U</td>\n",
       "      <td>Another option will be to try to curb the grow...</td>\n",
       "    </tr>\n",
       "    <tr>\n",
       "      <th>2</th>\n",
       "      <td>wsj03:2839</td>\n",
       "      <td>N</td>\n",
       "      <td>But in the short-term it will absorb a lot of ...</td>\n",
       "    </tr>\n",
       "    <tr>\n",
       "      <th>3</th>\n",
       "      <td>wsj03:9412</td>\n",
       "      <td>U</td>\n",
       "      <td>That merger , valued at about $ 1 billion , he...</td>\n",
       "    </tr>\n",
       "    <tr>\n",
       "      <th>4</th>\n",
       "      <td>wsj04:10022</td>\n",
       "      <td>N</td>\n",
       "      <td>Shocks from one-time changes in the terms of t...</td>\n",
       "    </tr>\n",
       "  </tbody>\n",
       "</table>\n",
       "</div>"
      ],
      "text/plain": [
       "           ***absorb*** Unnamed: 1  \\\n",
       "0  *nonliteral cluster*        NaN   \n",
       "1            wsj02:2251          U   \n",
       "2            wsj03:2839          N   \n",
       "3            wsj03:9412          U   \n",
       "4           wsj04:10022          N   \n",
       "\n",
       "                                          Unnamed: 2  \n",
       "0                                                NaN  \n",
       "1  Another option will be to try to curb the grow...  \n",
       "2  But in the short-term it will absorb a lot of ...  \n",
       "3  That merger , valued at about $ 1 billion , he...  \n",
       "4  Shocks from one-time changes in the terms of t...  "
      ]
     },
     "execution_count": 1,
     "metadata": {},
     "output_type": "execute_result"
    }
   ],
   "source": [
    "# csv 파일 불러오기\n",
    "import pandas as pd\n",
    "import numpy as np\n",
    "from tqdm import tqdm\n",
    "\n",
    "df = pd.read_csv('./TroFi_example.csv')\n",
    "df.head()"
   ]
  },
  {
   "cell_type": "code",
   "execution_count": 2,
   "id": "018c0e22",
   "metadata": {},
   "outputs": [],
   "source": [
    "df.columns = [\"index\", \"Label\", \"Text\"]"
   ]
  },
  {
   "cell_type": "code",
   "execution_count": 3,
   "id": "28962a12",
   "metadata": {},
   "outputs": [
    {
     "data": {
      "text/html": [
       "<div>\n",
       "<style scoped>\n",
       "    .dataframe tbody tr th:only-of-type {\n",
       "        vertical-align: middle;\n",
       "    }\n",
       "\n",
       "    .dataframe tbody tr th {\n",
       "        vertical-align: top;\n",
       "    }\n",
       "\n",
       "    .dataframe thead th {\n",
       "        text-align: right;\n",
       "    }\n",
       "</style>\n",
       "<table border=\"1\" class=\"dataframe\">\n",
       "  <thead>\n",
       "    <tr style=\"text-align: right;\">\n",
       "      <th></th>\n",
       "      <th>index</th>\n",
       "      <th>Label</th>\n",
       "      <th>Text</th>\n",
       "    </tr>\n",
       "  </thead>\n",
       "  <tbody>\n",
       "    <tr>\n",
       "      <th>0</th>\n",
       "      <td>*nonliteral cluster*</td>\n",
       "      <td>NaN</td>\n",
       "      <td>NaN</td>\n",
       "    </tr>\n",
       "    <tr>\n",
       "      <th>1</th>\n",
       "      <td>wsj02:2251</td>\n",
       "      <td>U</td>\n",
       "      <td>Another option will be to try to curb the grow...</td>\n",
       "    </tr>\n",
       "    <tr>\n",
       "      <th>2</th>\n",
       "      <td>wsj03:2839</td>\n",
       "      <td>N</td>\n",
       "      <td>But in the short-term it will absorb a lot of ...</td>\n",
       "    </tr>\n",
       "    <tr>\n",
       "      <th>3</th>\n",
       "      <td>wsj03:9412</td>\n",
       "      <td>U</td>\n",
       "      <td>That merger , valued at about $ 1 billion , he...</td>\n",
       "    </tr>\n",
       "    <tr>\n",
       "      <th>4</th>\n",
       "      <td>wsj04:10022</td>\n",
       "      <td>N</td>\n",
       "      <td>Shocks from one-time changes in the terms of t...</td>\n",
       "    </tr>\n",
       "  </tbody>\n",
       "</table>\n",
       "</div>"
      ],
      "text/plain": [
       "                  index Label  \\\n",
       "0  *nonliteral cluster*   NaN   \n",
       "1            wsj02:2251     U   \n",
       "2            wsj03:2839     N   \n",
       "3            wsj03:9412     U   \n",
       "4           wsj04:10022     N   \n",
       "\n",
       "                                                Text  \n",
       "0                                                NaN  \n",
       "1  Another option will be to try to curb the grow...  \n",
       "2  But in the short-term it will absorb a lot of ...  \n",
       "3  That merger , valued at about $ 1 billion , he...  \n",
       "4  Shocks from one-time changes in the terms of t...  "
      ]
     },
     "execution_count": 3,
     "metadata": {},
     "output_type": "execute_result"
    }
   ],
   "source": [
    "df.head()"
   ]
  },
  {
   "cell_type": "code",
   "execution_count": 4,
   "id": "5ad3f092",
   "metadata": {
    "scrolled": true
   },
   "outputs": [
    {
     "data": {
      "text/plain": [
       "index    149\n",
       "Label    348\n",
       "Text     348\n",
       "dtype: int64"
      ]
     },
     "execution_count": 4,
     "metadata": {},
     "output_type": "execute_result"
    }
   ],
   "source": [
    "df.isnull().sum()"
   ]
  },
  {
   "cell_type": "code",
   "execution_count": 5,
   "id": "6f5a574b",
   "metadata": {
    "scrolled": true
   },
   "outputs": [
    {
     "data": {
      "text/html": [
       "<div>\n",
       "<style scoped>\n",
       "    .dataframe tbody tr th:only-of-type {\n",
       "        vertical-align: middle;\n",
       "    }\n",
       "\n",
       "    .dataframe tbody tr th {\n",
       "        vertical-align: top;\n",
       "    }\n",
       "\n",
       "    .dataframe thead th {\n",
       "        text-align: right;\n",
       "    }\n",
       "</style>\n",
       "<table border=\"1\" class=\"dataframe\">\n",
       "  <thead>\n",
       "    <tr style=\"text-align: right;\">\n",
       "      <th></th>\n",
       "      <th>index</th>\n",
       "      <th>Label</th>\n",
       "      <th>Text</th>\n",
       "    </tr>\n",
       "  </thead>\n",
       "  <tbody>\n",
       "    <tr>\n",
       "      <th>5854</th>\n",
       "      <td>***stick***</td>\n",
       "      <td>NaN</td>\n",
       "      <td>NaN</td>\n",
       "    </tr>\n",
       "    <tr>\n",
       "      <th>5855</th>\n",
       "      <td>*nonliteral cluster*</td>\n",
       "      <td>NaN</td>\n",
       "      <td>NaN</td>\n",
       "    </tr>\n",
       "    <tr>\n",
       "      <th>6007</th>\n",
       "      <td>NaN</td>\n",
       "      <td>NaN</td>\n",
       "      <td>NaN</td>\n",
       "    </tr>\n",
       "    <tr>\n",
       "      <th>6008</th>\n",
       "      <td>*literal cluster*</td>\n",
       "      <td>NaN</td>\n",
       "      <td>NaN</td>\n",
       "    </tr>\n",
       "    <tr>\n",
       "      <th>6039</th>\n",
       "      <td>NaN</td>\n",
       "      <td>NaN</td>\n",
       "      <td>NaN</td>\n",
       "    </tr>\n",
       "    <tr>\n",
       "      <th>6040</th>\n",
       "      <td>********************</td>\n",
       "      <td>NaN</td>\n",
       "      <td>NaN</td>\n",
       "    </tr>\n",
       "    <tr>\n",
       "      <th>6041</th>\n",
       "      <td>NaN</td>\n",
       "      <td>NaN</td>\n",
       "      <td>NaN</td>\n",
       "    </tr>\n",
       "    <tr>\n",
       "      <th>6042</th>\n",
       "      <td>***strike***</td>\n",
       "      <td>NaN</td>\n",
       "      <td>NaN</td>\n",
       "    </tr>\n",
       "    <tr>\n",
       "      <th>6043</th>\n",
       "      <td>*nonliteral cluster*</td>\n",
       "      <td>NaN</td>\n",
       "      <td>NaN</td>\n",
       "    </tr>\n",
       "    <tr>\n",
       "      <th>6104</th>\n",
       "      <td>NaN</td>\n",
       "      <td>NaN</td>\n",
       "      <td>NaN</td>\n",
       "    </tr>\n",
       "    <tr>\n",
       "      <th>6105</th>\n",
       "      <td>*literal cluster*</td>\n",
       "      <td>NaN</td>\n",
       "      <td>NaN</td>\n",
       "    </tr>\n",
       "    <tr>\n",
       "      <th>6261</th>\n",
       "      <td>NaN</td>\n",
       "      <td>NaN</td>\n",
       "      <td>NaN</td>\n",
       "    </tr>\n",
       "    <tr>\n",
       "      <th>6262</th>\n",
       "      <td>********************</td>\n",
       "      <td>NaN</td>\n",
       "      <td>NaN</td>\n",
       "    </tr>\n",
       "    <tr>\n",
       "      <th>6263</th>\n",
       "      <td>NaN</td>\n",
       "      <td>NaN</td>\n",
       "      <td>NaN</td>\n",
       "    </tr>\n",
       "    <tr>\n",
       "      <th>6264</th>\n",
       "      <td>***stumble***</td>\n",
       "      <td>NaN</td>\n",
       "      <td>NaN</td>\n",
       "    </tr>\n",
       "    <tr>\n",
       "      <th>6265</th>\n",
       "      <td>*nonliteral cluster*</td>\n",
       "      <td>NaN</td>\n",
       "      <td>NaN</td>\n",
       "    </tr>\n",
       "    <tr>\n",
       "      <th>6322</th>\n",
       "      <td>NaN</td>\n",
       "      <td>NaN</td>\n",
       "      <td>NaN</td>\n",
       "    </tr>\n",
       "    <tr>\n",
       "      <th>6323</th>\n",
       "      <td>*literal cluster*</td>\n",
       "      <td>NaN</td>\n",
       "      <td>NaN</td>\n",
       "    </tr>\n",
       "    <tr>\n",
       "      <th>6392</th>\n",
       "      <td>NaN</td>\n",
       "      <td>NaN</td>\n",
       "      <td>NaN</td>\n",
       "    </tr>\n",
       "    <tr>\n",
       "      <th>6393</th>\n",
       "      <td>********************</td>\n",
       "      <td>NaN</td>\n",
       "      <td>NaN</td>\n",
       "    </tr>\n",
       "    <tr>\n",
       "      <th>6394</th>\n",
       "      <td>NaN</td>\n",
       "      <td>NaN</td>\n",
       "      <td>NaN</td>\n",
       "    </tr>\n",
       "    <tr>\n",
       "      <th>6395</th>\n",
       "      <td>***target***</td>\n",
       "      <td>NaN</td>\n",
       "      <td>NaN</td>\n",
       "    </tr>\n",
       "    <tr>\n",
       "      <th>6396</th>\n",
       "      <td>*nonliteral cluster*</td>\n",
       "      <td>NaN</td>\n",
       "      <td>NaN</td>\n",
       "    </tr>\n",
       "    <tr>\n",
       "      <th>6461</th>\n",
       "      <td>NaN</td>\n",
       "      <td>NaN</td>\n",
       "      <td>NaN</td>\n",
       "    </tr>\n",
       "    <tr>\n",
       "      <th>6462</th>\n",
       "      <td>*literal cluster*</td>\n",
       "      <td>NaN</td>\n",
       "      <td>NaN</td>\n",
       "    </tr>\n",
       "    <tr>\n",
       "      <th>6563</th>\n",
       "      <td>NaN</td>\n",
       "      <td>NaN</td>\n",
       "      <td>NaN</td>\n",
       "    </tr>\n",
       "    <tr>\n",
       "      <th>6564</th>\n",
       "      <td>********************</td>\n",
       "      <td>NaN</td>\n",
       "      <td>NaN</td>\n",
       "    </tr>\n",
       "    <tr>\n",
       "      <th>6565</th>\n",
       "      <td>NaN</td>\n",
       "      <td>NaN</td>\n",
       "      <td>NaN</td>\n",
       "    </tr>\n",
       "    <tr>\n",
       "      <th>6566</th>\n",
       "      <td>***touch***</td>\n",
       "      <td>NaN</td>\n",
       "      <td>NaN</td>\n",
       "    </tr>\n",
       "    <tr>\n",
       "      <th>6567</th>\n",
       "      <td>*nonliteral cluster*</td>\n",
       "      <td>NaN</td>\n",
       "      <td>NaN</td>\n",
       "    </tr>\n",
       "    <tr>\n",
       "      <th>6639</th>\n",
       "      <td>NaN</td>\n",
       "      <td>NaN</td>\n",
       "      <td>NaN</td>\n",
       "    </tr>\n",
       "    <tr>\n",
       "      <th>6640</th>\n",
       "      <td>*literal cluster*</td>\n",
       "      <td>NaN</td>\n",
       "      <td>NaN</td>\n",
       "    </tr>\n",
       "    <tr>\n",
       "      <th>6724</th>\n",
       "      <td>NaN</td>\n",
       "      <td>NaN</td>\n",
       "      <td>NaN</td>\n",
       "    </tr>\n",
       "    <tr>\n",
       "      <th>6725</th>\n",
       "      <td>********************</td>\n",
       "      <td>NaN</td>\n",
       "      <td>NaN</td>\n",
       "    </tr>\n",
       "    <tr>\n",
       "      <th>6726</th>\n",
       "      <td>NaN</td>\n",
       "      <td>NaN</td>\n",
       "      <td>NaN</td>\n",
       "    </tr>\n",
       "    <tr>\n",
       "      <th>6727</th>\n",
       "      <td>***vaporize***</td>\n",
       "      <td>NaN</td>\n",
       "      <td>NaN</td>\n",
       "    </tr>\n",
       "    <tr>\n",
       "      <th>6728</th>\n",
       "      <td>*nonliteral cluster*</td>\n",
       "      <td>NaN</td>\n",
       "      <td>NaN</td>\n",
       "    </tr>\n",
       "    <tr>\n",
       "      <th>6731</th>\n",
       "      <td>NaN</td>\n",
       "      <td>NaN</td>\n",
       "      <td>NaN</td>\n",
       "    </tr>\n",
       "    <tr>\n",
       "      <th>6732</th>\n",
       "      <td>*literal cluster*</td>\n",
       "      <td>NaN</td>\n",
       "      <td>NaN</td>\n",
       "    </tr>\n",
       "    <tr>\n",
       "      <th>6738</th>\n",
       "      <td>NaN</td>\n",
       "      <td>NaN</td>\n",
       "      <td>NaN</td>\n",
       "    </tr>\n",
       "    <tr>\n",
       "      <th>6739</th>\n",
       "      <td>********************</td>\n",
       "      <td>NaN</td>\n",
       "      <td>NaN</td>\n",
       "    </tr>\n",
       "    <tr>\n",
       "      <th>6740</th>\n",
       "      <td>NaN</td>\n",
       "      <td>NaN</td>\n",
       "      <td>NaN</td>\n",
       "    </tr>\n",
       "    <tr>\n",
       "      <th>6741</th>\n",
       "      <td>***wither***</td>\n",
       "      <td>NaN</td>\n",
       "      <td>NaN</td>\n",
       "    </tr>\n",
       "    <tr>\n",
       "      <th>6742</th>\n",
       "      <td>*nonliteral cluster*</td>\n",
       "      <td>NaN</td>\n",
       "      <td>NaN</td>\n",
       "    </tr>\n",
       "    <tr>\n",
       "      <th>6747</th>\n",
       "      <td>NaN</td>\n",
       "      <td>NaN</td>\n",
       "      <td>NaN</td>\n",
       "    </tr>\n",
       "    <tr>\n",
       "      <th>6748</th>\n",
       "      <td>*literal cluster*</td>\n",
       "      <td>NaN</td>\n",
       "      <td>NaN</td>\n",
       "    </tr>\n",
       "    <tr>\n",
       "      <th>6782</th>\n",
       "      <td>NaN</td>\n",
       "      <td>NaN</td>\n",
       "      <td>NaN</td>\n",
       "    </tr>\n",
       "    <tr>\n",
       "      <th>6783</th>\n",
       "      <td>********************</td>\n",
       "      <td>NaN</td>\n",
       "      <td>NaN</td>\n",
       "    </tr>\n",
       "  </tbody>\n",
       "</table>\n",
       "</div>"
      ],
      "text/plain": [
       "                     index Label Text\n",
       "5854           ***stick***   NaN  NaN\n",
       "5855  *nonliteral cluster*   NaN  NaN\n",
       "6007                   NaN   NaN  NaN\n",
       "6008     *literal cluster*   NaN  NaN\n",
       "6039                   NaN   NaN  NaN\n",
       "6040  ********************   NaN  NaN\n",
       "6041                   NaN   NaN  NaN\n",
       "6042          ***strike***   NaN  NaN\n",
       "6043  *nonliteral cluster*   NaN  NaN\n",
       "6104                   NaN   NaN  NaN\n",
       "6105     *literal cluster*   NaN  NaN\n",
       "6261                   NaN   NaN  NaN\n",
       "6262  ********************   NaN  NaN\n",
       "6263                   NaN   NaN  NaN\n",
       "6264         ***stumble***   NaN  NaN\n",
       "6265  *nonliteral cluster*   NaN  NaN\n",
       "6322                   NaN   NaN  NaN\n",
       "6323     *literal cluster*   NaN  NaN\n",
       "6392                   NaN   NaN  NaN\n",
       "6393  ********************   NaN  NaN\n",
       "6394                   NaN   NaN  NaN\n",
       "6395          ***target***   NaN  NaN\n",
       "6396  *nonliteral cluster*   NaN  NaN\n",
       "6461                   NaN   NaN  NaN\n",
       "6462     *literal cluster*   NaN  NaN\n",
       "6563                   NaN   NaN  NaN\n",
       "6564  ********************   NaN  NaN\n",
       "6565                   NaN   NaN  NaN\n",
       "6566           ***touch***   NaN  NaN\n",
       "6567  *nonliteral cluster*   NaN  NaN\n",
       "6639                   NaN   NaN  NaN\n",
       "6640     *literal cluster*   NaN  NaN\n",
       "6724                   NaN   NaN  NaN\n",
       "6725  ********************   NaN  NaN\n",
       "6726                   NaN   NaN  NaN\n",
       "6727        ***vaporize***   NaN  NaN\n",
       "6728  *nonliteral cluster*   NaN  NaN\n",
       "6731                   NaN   NaN  NaN\n",
       "6732     *literal cluster*   NaN  NaN\n",
       "6738                   NaN   NaN  NaN\n",
       "6739  ********************   NaN  NaN\n",
       "6740                   NaN   NaN  NaN\n",
       "6741          ***wither***   NaN  NaN\n",
       "6742  *nonliteral cluster*   NaN  NaN\n",
       "6747                   NaN   NaN  NaN\n",
       "6748     *literal cluster*   NaN  NaN\n",
       "6782                   NaN   NaN  NaN\n",
       "6783  ********************   NaN  NaN"
      ]
     },
     "execution_count": 5,
     "metadata": {},
     "output_type": "execute_result"
    }
   ],
   "source": [
    "# NaN이 있는 행을 지워도 되는지 확인하는 작업\n",
    "df[df['Text'].isnull()][300:]"
   ]
  },
  {
   "cell_type": "code",
   "execution_count": 6,
   "id": "7cbf0639",
   "metadata": {},
   "outputs": [],
   "source": [
    "# NaN이 있는 행 모두 제거\n",
    "df.dropna(inplace=True)"
   ]
  },
  {
   "cell_type": "code",
   "execution_count": 8,
   "id": "bfed9bd2",
   "metadata": {},
   "outputs": [],
   "source": [
    "df_copy = df.copy()"
   ]
  },
  {
   "cell_type": "code",
   "execution_count": 9,
   "id": "6a42a0a0",
   "metadata": {},
   "outputs": [],
   "source": [
    "df_copy.drop([\"index\"], axis=1, inplace=True)"
   ]
  },
  {
   "cell_type": "code",
   "execution_count": 10,
   "id": "57196c82",
   "metadata": {},
   "outputs": [
    {
     "data": {
      "text/plain": [
       "U    2699\n",
       "N    2145\n",
       "L    1592\n",
       "Name: Label, dtype: int64"
      ]
     },
     "execution_count": 10,
     "metadata": {},
     "output_type": "execute_result"
    }
   ],
   "source": [
    "\"\"\"\n",
    "U: Unannotated\n",
    "N: Non-literal\n",
    "L: Literal\n",
    "\"\"\"\n",
    "df_copy['Label'].value_counts()"
   ]
  },
  {
   "cell_type": "code",
   "execution_count": 11,
   "id": "cebcb394",
   "metadata": {
    "scrolled": false
   },
   "outputs": [
    {
     "data": {
      "text/html": [
       "<div>\n",
       "<style scoped>\n",
       "    .dataframe tbody tr th:only-of-type {\n",
       "        vertical-align: middle;\n",
       "    }\n",
       "\n",
       "    .dataframe tbody tr th {\n",
       "        vertical-align: top;\n",
       "    }\n",
       "\n",
       "    .dataframe thead th {\n",
       "        text-align: right;\n",
       "    }\n",
       "</style>\n",
       "<table border=\"1\" class=\"dataframe\">\n",
       "  <thead>\n",
       "    <tr style=\"text-align: right;\">\n",
       "      <th></th>\n",
       "      <th>Label</th>\n",
       "      <th>Text</th>\n",
       "    </tr>\n",
       "  </thead>\n",
       "  <tbody>\n",
       "    <tr>\n",
       "      <th>1</th>\n",
       "      <td>U</td>\n",
       "      <td>Another option will be to try to curb the grow...</td>\n",
       "    </tr>\n",
       "    <tr>\n",
       "      <th>2</th>\n",
       "      <td>N</td>\n",
       "      <td>But in the short-term it will absorb a lot of ...</td>\n",
       "    </tr>\n",
       "    <tr>\n",
       "      <th>3</th>\n",
       "      <td>U</td>\n",
       "      <td>That merger , valued at about $ 1 billion , he...</td>\n",
       "    </tr>\n",
       "    <tr>\n",
       "      <th>4</th>\n",
       "      <td>N</td>\n",
       "      <td>Shocks from one-time changes in the terms of t...</td>\n",
       "    </tr>\n",
       "    <tr>\n",
       "      <th>5</th>\n",
       "      <td>U</td>\n",
       "      <td>R.J. Reynolds Tobacco Co. has been a rich , fa...</td>\n",
       "    </tr>\n",
       "  </tbody>\n",
       "</table>\n",
       "</div>"
      ],
      "text/plain": [
       "  Label                                               Text\n",
       "1     U  Another option will be to try to curb the grow...\n",
       "2     N  But in the short-term it will absorb a lot of ...\n",
       "3     U  That merger , valued at about $ 1 billion , he...\n",
       "4     N  Shocks from one-time changes in the terms of t...\n",
       "5     U  R.J. Reynolds Tobacco Co. has been a rich , fa..."
      ]
     },
     "execution_count": 11,
     "metadata": {},
     "output_type": "execute_result"
    }
   ],
   "source": [
    "df_copy.head()"
   ]
  },
  {
   "cell_type": "code",
   "execution_count": 13,
   "id": "c6e4c441",
   "metadata": {},
   "outputs": [],
   "source": [
    "## 전처리\n",
    "# 1. Nan값 처리 어떻게 할 것인지\n",
    "# 2. Label이 U인 행 제거\n",
    "# 3. 간단한 특수문자 제거"
   ]
  },
  {
   "cell_type": "code",
   "execution_count": 14,
   "id": "362c09dd",
   "metadata": {},
   "outputs": [],
   "source": [
    "df_copy.reset_index(inplace=True, drop=True)"
   ]
  },
  {
   "cell_type": "code",
   "execution_count": 21,
   "id": "ba7772cf",
   "metadata": {},
   "outputs": [
    {
     "name": "stdout",
     "output_type": "stream",
     "text": [
      "Ever since , Banner has been besieged by hundreds of thrill-seeking callers ./.\n",
      "417\n",
      "N\n",
      "Ever since your scoop ran on the wire , the stock market has been flooded with buy orders ./.\n",
      "2492\n",
      "U\n",
      "Ever since President Reagan in February 1986 called for U.S. development of an `` Orient Express , '' a futuristic aircraft that would fly from New York to Tokyo in two hours , MITI 's aerospace mavens have been itching to get Japan into the action ./.\n",
      "2774\n",
      "L\n"
     ]
    }
   ],
   "source": [
    "# 논문에 있는 예시 문장이 들어있는지 체크\n",
    "## N-pos / L-neg / U-제거\n",
    "for i in range(len(df_copy['Text'])):\n",
    "    if 'Ever since' in df_copy['Text'][i]:\n",
    "        print(df_copy['Text'][i])\n",
    "        print(i)\n",
    "        print(df_copy['Label'][i])"
   ]
  },
  {
   "cell_type": "code",
   "execution_count": 22,
   "id": "b07030e3",
   "metadata": {},
   "outputs": [],
   "source": [
    "# Label이 U인 행 제거\n",
    "idx_label_U = df_copy[df_copy['Label']=='U'].index\n",
    "new_df = df_copy.drop(idx_label_U)"
   ]
  },
  {
   "cell_type": "code",
   "execution_count": 23,
   "id": "dfc212ff",
   "metadata": {},
   "outputs": [
    {
     "data": {
      "text/html": [
       "<div>\n",
       "<style scoped>\n",
       "    .dataframe tbody tr th:only-of-type {\n",
       "        vertical-align: middle;\n",
       "    }\n",
       "\n",
       "    .dataframe tbody tr th {\n",
       "        vertical-align: top;\n",
       "    }\n",
       "\n",
       "    .dataframe thead th {\n",
       "        text-align: right;\n",
       "    }\n",
       "</style>\n",
       "<table border=\"1\" class=\"dataframe\">\n",
       "  <thead>\n",
       "    <tr style=\"text-align: right;\">\n",
       "      <th></th>\n",
       "      <th>Label</th>\n",
       "      <th>Text</th>\n",
       "    </tr>\n",
       "  </thead>\n",
       "  <tbody>\n",
       "    <tr>\n",
       "      <th>1</th>\n",
       "      <td>N</td>\n",
       "      <td>But in the short-term it will absorb a lot of ...</td>\n",
       "    </tr>\n",
       "    <tr>\n",
       "      <th>3</th>\n",
       "      <td>N</td>\n",
       "      <td>Shocks from one-time changes in the terms of t...</td>\n",
       "    </tr>\n",
       "    <tr>\n",
       "      <th>6</th>\n",
       "      <td>N</td>\n",
       "      <td>During the past 18 months , the Houston-based ...</td>\n",
       "    </tr>\n",
       "    <tr>\n",
       "      <th>7</th>\n",
       "      <td>N</td>\n",
       "      <td>In the years since 1853 , when 4 , 058 steambo...</td>\n",
       "    </tr>\n",
       "    <tr>\n",
       "      <th>11</th>\n",
       "      <td>N</td>\n",
       "      <td>Mr. Wyss of Data Resources suggested that fact...</td>\n",
       "    </tr>\n",
       "  </tbody>\n",
       "</table>\n",
       "</div>"
      ],
      "text/plain": [
       "   Label                                               Text\n",
       "1      N  But in the short-term it will absorb a lot of ...\n",
       "3      N  Shocks from one-time changes in the terms of t...\n",
       "6      N  During the past 18 months , the Houston-based ...\n",
       "7      N  In the years since 1853 , when 4 , 058 steambo...\n",
       "11     N  Mr. Wyss of Data Resources suggested that fact..."
      ]
     },
     "execution_count": 23,
     "metadata": {},
     "output_type": "execute_result"
    }
   ],
   "source": [
    "new_df.head()"
   ]
  },
  {
   "cell_type": "code",
   "execution_count": 28,
   "id": "fdb6ae0a",
   "metadata": {},
   "outputs": [],
   "source": [
    "# 간단한 특수문자 제거\n",
    "preprocessed_sen = []\n",
    "for txt in new_df['Text']:\n",
    "    preprocessed_sen.append(txt.replace('./.', '').strip())"
   ]
  },
  {
   "cell_type": "code",
   "execution_count": 29,
   "id": "f0dff296",
   "metadata": {},
   "outputs": [],
   "source": [
    "new_df['Text'] = preprocessed_sen"
   ]
  },
  {
   "cell_type": "code",
   "execution_count": 30,
   "id": "e1092514",
   "metadata": {},
   "outputs": [
    {
     "data": {
      "text/plain": [
       "\"But in the short-term it will absorb a lot of top management 's energy and attention , '' says Philippe Haspeslagh , a business professor at the European management school , Insead , in Paris\""
      ]
     },
     "execution_count": 30,
     "metadata": {},
     "output_type": "execute_result"
    }
   ],
   "source": [
    "# 잘 제거됐는지 확인\n",
    "new_df['Text'][1]"
   ]
  },
  {
   "cell_type": "code",
   "execution_count": 39,
   "id": "b41dcbc8",
   "metadata": {},
   "outputs": [
    {
     "data": {
      "text/html": [
       "<div>\n",
       "<style scoped>\n",
       "    .dataframe tbody tr th:only-of-type {\n",
       "        vertical-align: middle;\n",
       "    }\n",
       "\n",
       "    .dataframe tbody tr th {\n",
       "        vertical-align: top;\n",
       "    }\n",
       "\n",
       "    .dataframe thead th {\n",
       "        text-align: right;\n",
       "    }\n",
       "</style>\n",
       "<table border=\"1\" class=\"dataframe\">\n",
       "  <thead>\n",
       "    <tr style=\"text-align: right;\">\n",
       "      <th></th>\n",
       "      <th>Label</th>\n",
       "      <th>Text</th>\n",
       "    </tr>\n",
       "  </thead>\n",
       "  <tbody>\n",
       "    <tr>\n",
       "      <th>0</th>\n",
       "      <td>N</td>\n",
       "      <td>But in the short-term it will absorb a lot of ...</td>\n",
       "    </tr>\n",
       "    <tr>\n",
       "      <th>1</th>\n",
       "      <td>N</td>\n",
       "      <td>Shocks from one-time changes in the terms of t...</td>\n",
       "    </tr>\n",
       "    <tr>\n",
       "      <th>2</th>\n",
       "      <td>N</td>\n",
       "      <td>During the past 18 months , the Houston-based ...</td>\n",
       "    </tr>\n",
       "    <tr>\n",
       "      <th>3</th>\n",
       "      <td>N</td>\n",
       "      <td>In the years since 1853 , when 4 , 058 steambo...</td>\n",
       "    </tr>\n",
       "    <tr>\n",
       "      <th>4</th>\n",
       "      <td>N</td>\n",
       "      <td>Mr. Wyss of Data Resources suggested that fact...</td>\n",
       "    </tr>\n",
       "    <tr>\n",
       "      <th>...</th>\n",
       "      <td>...</td>\n",
       "      <td>...</td>\n",
       "    </tr>\n",
       "    <tr>\n",
       "      <th>3732</th>\n",
       "      <td>N</td>\n",
       "      <td>But the OTC market was withering badly near th...</td>\n",
       "    </tr>\n",
       "    <tr>\n",
       "      <th>3733</th>\n",
       "      <td>N</td>\n",
       "      <td>But the ANC has grown , and black supremacist ...</td>\n",
       "    </tr>\n",
       "    <tr>\n",
       "      <th>3734</th>\n",
       "      <td>N</td>\n",
       "      <td>The combination was supposed to make First Rep...</td>\n",
       "    </tr>\n",
       "    <tr>\n",
       "      <th>3735</th>\n",
       "      <td>N</td>\n",
       "      <td>Indeed , thanks to a well-oiled political mach...</td>\n",
       "    </tr>\n",
       "    <tr>\n",
       "      <th>3736</th>\n",
       "      <td>N</td>\n",
       "      <td>But by 1985 the boom was over , and sales had ...</td>\n",
       "    </tr>\n",
       "  </tbody>\n",
       "</table>\n",
       "<p>3737 rows × 2 columns</p>\n",
       "</div>"
      ],
      "text/plain": [
       "     Label                                               Text\n",
       "0        N  But in the short-term it will absorb a lot of ...\n",
       "1        N  Shocks from one-time changes in the terms of t...\n",
       "2        N  During the past 18 months , the Houston-based ...\n",
       "3        N  In the years since 1853 , when 4 , 058 steambo...\n",
       "4        N  Mr. Wyss of Data Resources suggested that fact...\n",
       "...    ...                                                ...\n",
       "3732     N  But the OTC market was withering badly near th...\n",
       "3733     N  But the ANC has grown , and black supremacist ...\n",
       "3734     N  The combination was supposed to make First Rep...\n",
       "3735     N  Indeed , thanks to a well-oiled political mach...\n",
       "3736     N  But by 1985 the boom was over , and sales had ...\n",
       "\n",
       "[3737 rows x 2 columns]"
      ]
     },
     "execution_count": 39,
     "metadata": {},
     "output_type": "execute_result"
    }
   ],
   "source": [
    "new_df"
   ]
  },
  {
   "cell_type": "code",
   "execution_count": 33,
   "id": "46112c61",
   "metadata": {},
   "outputs": [],
   "source": [
    "new_df.reset_index(inplace=True, drop=True)"
   ]
  },
  {
   "cell_type": "code",
   "execution_count": 35,
   "id": "e589e310",
   "metadata": {},
   "outputs": [
    {
     "data": {
      "text/plain": [
       "N    2145\n",
       "L    1592\n",
       "Name: Label, dtype: int64"
      ]
     },
     "execution_count": 35,
     "metadata": {},
     "output_type": "execute_result"
    }
   ],
   "source": [
    "new_df['Label'].value_counts()"
   ]
  },
  {
   "cell_type": "code",
   "execution_count": 36,
   "id": "5a6194d3",
   "metadata": {},
   "outputs": [],
   "source": [
    "# Label값을 N-1, L-0 으로 변환\n",
    "labels = []\n",
    "\n",
    "for l in new_df['Label']:\n",
    "    if l == 'N':\n",
    "        labels.append(1)\n",
    "    elif l == 'L':\n",
    "        labels.append(0)"
   ]
  },
  {
   "cell_type": "code",
   "execution_count": 40,
   "id": "d7fa1a52",
   "metadata": {},
   "outputs": [],
   "source": [
    "df_idiom = new_df.copy()"
   ]
  },
  {
   "cell_type": "code",
   "execution_count": 41,
   "id": "22283946",
   "metadata": {},
   "outputs": [],
   "source": [
    "df_idiom['Label'] = labels"
   ]
  },
  {
   "cell_type": "code",
   "execution_count": 43,
   "id": "e5950812",
   "metadata": {
    "scrolled": true
   },
   "outputs": [
    {
     "data": {
      "text/plain": [
       "1    2145\n",
       "0    1592\n",
       "Name: Label, dtype: int64"
      ]
     },
     "execution_count": 43,
     "metadata": {},
     "output_type": "execute_result"
    }
   ],
   "source": [
    "df_idiom['Label'].value_counts()"
   ]
  },
  {
   "cell_type": "code",
   "execution_count": 45,
   "id": "4aa0475b",
   "metadata": {},
   "outputs": [
    {
     "data": {
      "text/html": [
       "<div>\n",
       "<style scoped>\n",
       "    .dataframe tbody tr th:only-of-type {\n",
       "        vertical-align: middle;\n",
       "    }\n",
       "\n",
       "    .dataframe tbody tr th {\n",
       "        vertical-align: top;\n",
       "    }\n",
       "\n",
       "    .dataframe thead th {\n",
       "        text-align: right;\n",
       "    }\n",
       "</style>\n",
       "<table border=\"1\" class=\"dataframe\">\n",
       "  <thead>\n",
       "    <tr style=\"text-align: right;\">\n",
       "      <th></th>\n",
       "      <th>Label</th>\n",
       "      <th>Text</th>\n",
       "    </tr>\n",
       "  </thead>\n",
       "  <tbody>\n",
       "    <tr>\n",
       "      <th>0</th>\n",
       "      <td>1</td>\n",
       "      <td>But in the short-term it will absorb a lot of ...</td>\n",
       "    </tr>\n",
       "    <tr>\n",
       "      <th>1</th>\n",
       "      <td>1</td>\n",
       "      <td>Shocks from one-time changes in the terms of t...</td>\n",
       "    </tr>\n",
       "    <tr>\n",
       "      <th>2</th>\n",
       "      <td>1</td>\n",
       "      <td>During the past 18 months , the Houston-based ...</td>\n",
       "    </tr>\n",
       "    <tr>\n",
       "      <th>3</th>\n",
       "      <td>1</td>\n",
       "      <td>In the years since 1853 , when 4 , 058 steambo...</td>\n",
       "    </tr>\n",
       "    <tr>\n",
       "      <th>4</th>\n",
       "      <td>1</td>\n",
       "      <td>Mr. Wyss of Data Resources suggested that fact...</td>\n",
       "    </tr>\n",
       "    <tr>\n",
       "      <th>...</th>\n",
       "      <td>...</td>\n",
       "      <td>...</td>\n",
       "    </tr>\n",
       "    <tr>\n",
       "      <th>3732</th>\n",
       "      <td>1</td>\n",
       "      <td>But the OTC market was withering badly near th...</td>\n",
       "    </tr>\n",
       "    <tr>\n",
       "      <th>3733</th>\n",
       "      <td>1</td>\n",
       "      <td>But the ANC has grown , and black supremacist ...</td>\n",
       "    </tr>\n",
       "    <tr>\n",
       "      <th>3734</th>\n",
       "      <td>1</td>\n",
       "      <td>The combination was supposed to make First Rep...</td>\n",
       "    </tr>\n",
       "    <tr>\n",
       "      <th>3735</th>\n",
       "      <td>1</td>\n",
       "      <td>Indeed , thanks to a well-oiled political mach...</td>\n",
       "    </tr>\n",
       "    <tr>\n",
       "      <th>3736</th>\n",
       "      <td>1</td>\n",
       "      <td>But by 1985 the boom was over , and sales had ...</td>\n",
       "    </tr>\n",
       "  </tbody>\n",
       "</table>\n",
       "<p>3737 rows × 2 columns</p>\n",
       "</div>"
      ],
      "text/plain": [
       "      Label                                               Text\n",
       "0         1  But in the short-term it will absorb a lot of ...\n",
       "1         1  Shocks from one-time changes in the terms of t...\n",
       "2         1  During the past 18 months , the Houston-based ...\n",
       "3         1  In the years since 1853 , when 4 , 058 steambo...\n",
       "4         1  Mr. Wyss of Data Resources suggested that fact...\n",
       "...     ...                                                ...\n",
       "3732      1  But the OTC market was withering badly near th...\n",
       "3733      1  But the ANC has grown , and black supremacist ...\n",
       "3734      1  The combination was supposed to make First Rep...\n",
       "3735      1  Indeed , thanks to a well-oiled political mach...\n",
       "3736      1  But by 1985 the boom was over , and sales had ...\n",
       "\n",
       "[3737 rows x 2 columns]"
      ]
     },
     "execution_count": 45,
     "metadata": {},
     "output_type": "execute_result"
    }
   ],
   "source": [
    "df_idiom"
   ]
  },
  {
   "cell_type": "code",
   "execution_count": 53,
   "id": "58335174",
   "metadata": {},
   "outputs": [],
   "source": [
    "# 추가 전처리 작업\n",
    "add_preprocess = []\n",
    "for txt in df_idiom['Text']:\n",
    "    add_preprocess.append(txt.replace(\"''/''\", '').replace(\"?/.\", '').strip())"
   ]
  },
  {
   "cell_type": "code",
   "execution_count": 57,
   "id": "031ff5fc",
   "metadata": {},
   "outputs": [
    {
     "data": {
      "text/plain": [
       "'Mr. Ennis said he believes Rockwood got into financial difficulty because its expansion efforts `` outstripped its ability to absorb those activities .'"
      ]
     },
     "execution_count": 57,
     "metadata": {},
     "output_type": "execute_result"
    }
   ],
   "source": [
    "add_preprocess[9]"
   ]
  },
  {
   "cell_type": "code",
   "execution_count": 58,
   "id": "77fc5294",
   "metadata": {},
   "outputs": [],
   "source": [
    "df_idiom['Text'] = add_preprocess"
   ]
  },
  {
   "cell_type": "code",
   "execution_count": 60,
   "id": "81ae34ea",
   "metadata": {},
   "outputs": [
    {
     "data": {
      "text/plain": [
       "'Mr. Ennis said he believes Rockwood got into financial difficulty because its expansion efforts `` outstripped its ability to absorb those activities .'"
      ]
     },
     "execution_count": 60,
     "metadata": {},
     "output_type": "execute_result"
    }
   ],
   "source": [
    "# 잘 들어갔는지 확인\n",
    "df_idiom['Text'][9]"
   ]
  },
  {
   "cell_type": "code",
   "execution_count": 61,
   "id": "1f93dd52",
   "metadata": {},
   "outputs": [],
   "source": [
    "df_idiom.to_csv('~/Desktop/TroFi_dataset.csv', index=False)"
   ]
  },
  {
   "cell_type": "code",
   "execution_count": 67,
   "id": "46858b9b",
   "metadata": {},
   "outputs": [],
   "source": [
    "# pickle 파일로 저장\n",
    "import pickle\n",
    "\n",
    "with open('./TroFi_dataset.pkl', 'wb') as f:\n",
    "    pickle.dump(df_idiom, f)"
   ]
  },
  {
   "cell_type": "code",
   "execution_count": null,
   "id": "e4c33dcb",
   "metadata": {},
   "outputs": [],
   "source": []
  }
 ],
 "metadata": {
  "kernelspec": {
   "display_name": "Python 3",
   "language": "python",
   "name": "python3"
  },
  "language_info": {
   "codemirror_mode": {
    "name": "ipython",
    "version": 3
   },
   "file_extension": ".py",
   "mimetype": "text/x-python",
   "name": "python",
   "nbconvert_exporter": "python",
   "pygments_lexer": "ipython3",
   "version": "3.9.5"
  }
 },
 "nbformat": 4,
 "nbformat_minor": 5
}
